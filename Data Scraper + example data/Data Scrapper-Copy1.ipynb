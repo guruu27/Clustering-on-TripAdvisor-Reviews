{
 "cells": [
  {
   "cell_type": "markdown",
   "id": "c83c2a33",
   "metadata": {},
   "source": [
    "### Scraping the Restaurents Data using Selenium"
   ]
  },
  {
   "cell_type": "code",
   "execution_count": 2,
   "id": "39eaacd9",
   "metadata": {},
   "outputs": [],
   "source": [
    "# Importing the Required Modules\n",
    "import sys\n",
    "import csv\n",
    "from selenium import webdriver\n",
    "import time\n",
    "from selenium.webdriver.edge.service import Service as EdgeService\n",
    "from selenium.webdriver.common.by import By\n",
    "\n",
    "# Path to Store Data \n",
    "path_to_file = \"C:\\\\Users\\\\anike\\Downloads\\\\Kyoto_House_Sushisss.csv\"\n",
    "\n",
    "# number of scraped pages\n",
    "num_page = 5\n",
    "\n",
    "# tripadvisor website of restaurant\n",
    "url = \"https://www.tripadvisor.ca/Restaurant_Review-g155019-d2722458-Reviews-Kyoto_House_Sushi-Toronto_Ontario.html\"\n",
    "\n",
    "if (len(sys.argv) == 4):\n",
    "    path_to_file = sys.argv[1]\n",
    "    num_page = int(sys.argv[2])\n",
    "    url = sys.argv[1]\n",
    "\n",
    "# Importing the webdriver\n",
    "edge_service = EdgeService(\"C:\\\\Users\\\\anike\\\\OneDrive\\\\Desktop\\\\msedgedriver.exe\")\n",
    "driver = webdriver.Edge(service=edge_service)\n",
    "driver.get(url)\n",
    "\n",
    "# Opening the file \n",
    "csvFile = open(path_to_file, 'a', encoding=\"utf-8\")\n",
    "csvWriter = csv.writer(csvFile)\n",
    "\n",
    "csvWriter.writerow(['DATE', 'RATINGS', 'TITLE', 'REVIEWS'])\n",
    "\n",
    "for i in range(0, num_page):\n",
    "    # Expand the review\n",
    "    time.sleep(3)\n",
    "    expand_buttons = driver.find_elements(By.XPATH, \"//span[@class='taLnk ulBlueLinks']\")\n",
    "\n",
    "    if i < len(expand_buttons):\n",
    "        expand_buttons[i].click()\n",
    "    else:\n",
    "        print(f\"Error: Not enough expand buttons on page {i + 1}\")\n",
    "\n",
    "    container = driver.find_elements(By.XPATH, \".//div[@class='review-container']\")\n",
    "\n",
    "    for j in range(len(container)):\n",
    "        title = container[j].find_element(By.XPATH, \".//span[@class='noQuotes']\").text\n",
    "        date = container[j].find_element(By.XPATH, \".//span[contains(@class, 'ratingDate')]\").get_attribute(\"title\")\n",
    "        rating = container[j].find_element(By.XPATH, \".//span[contains(@class, 'ui_bubble_rating bubble')]\").get_attribute(\"class\").split(\"_\")[3]\n",
    "        review = container[j].find_element(By.XPATH,\".//p[@class='partial_entry']\").text.replace(\"\\n\", \" \")\n",
    "\n",
    "        # Writing data row\n",
    "        csvWriter.writerow([date, rating, title, review])\n",
    "\n",
    "    # Changing the page\n",
    "    driver.find_element(By.XPATH,'.//a[@class=\"nav next ui_button primary\"]').click()\n",
    "\n",
    "driver.close()\n"
   ]
  },
  {
   "cell_type": "markdown",
   "id": "13dde04f",
   "metadata": {},
   "source": [
    "### Importing the Scraped File"
   ]
  },
  {
   "cell_type": "code",
   "execution_count": 4,
   "id": "ee572c4f",
   "metadata": {},
   "outputs": [],
   "source": [
    "import pandas as pd\n",
    "df = pd.read_csv('Kyoto House Sushi.csv')"
   ]
  },
  {
   "cell_type": "markdown",
   "id": "8eaf830c",
   "metadata": {},
   "source": [
    "### Reading the File "
   ]
  },
  {
   "cell_type": "code",
   "execution_count": 5,
   "id": "41529207",
   "metadata": {},
   "outputs": [
    {
     "data": {
      "text/html": [
       "<div>\n",
       "<style scoped>\n",
       "    .dataframe tbody tr th:only-of-type {\n",
       "        vertical-align: middle;\n",
       "    }\n",
       "\n",
       "    .dataframe tbody tr th {\n",
       "        vertical-align: top;\n",
       "    }\n",
       "\n",
       "    .dataframe thead th {\n",
       "        text-align: right;\n",
       "    }\n",
       "</style>\n",
       "<table border=\"1\" class=\"dataframe\">\n",
       "  <thead>\n",
       "    <tr style=\"text-align: right;\">\n",
       "      <th></th>\n",
       "      <th>DATE</th>\n",
       "      <th>RATINGS</th>\n",
       "      <th>TITLE</th>\n",
       "      <th>REVIEWS</th>\n",
       "    </tr>\n",
       "  </thead>\n",
       "  <tbody>\n",
       "    <tr>\n",
       "      <th>0</th>\n",
       "      <td>November 11, 2019</td>\n",
       "      <td>30</td>\n",
       "      <td>Average at best</td>\n",
       "      <td>Group of 5 went here for dinner. This place ha...</td>\n",
       "    </tr>\n",
       "    <tr>\n",
       "      <th>1</th>\n",
       "      <td>August 17, 2019</td>\n",
       "      <td>30</td>\n",
       "      <td>Rushed out. Food good though</td>\n",
       "      <td>Ordered chicken don. They looked super stresse...</td>\n",
       "    </tr>\n",
       "    <tr>\n",
       "      <th>2</th>\n",
       "      <td>April 12, 2019</td>\n",
       "      <td>50</td>\n",
       "      <td>My favorite japanese restaurant in Toronto</td>\n",
       "      <td>This is my favourite restaurant Japanese in To...</td>\n",
       "    </tr>\n",
       "    <tr>\n",
       "      <th>3</th>\n",
       "      <td>December 4, 2018</td>\n",
       "      <td>10</td>\n",
       "      <td>Good Food but Horrible Service</td>\n",
       "      <td>Not from Toronto, found this place while adven...</td>\n",
       "    </tr>\n",
       "    <tr>\n",
       "      <th>4</th>\n",
       "      <td>August 27, 2018</td>\n",
       "      <td>50</td>\n",
       "      <td>Saturday Lunch</td>\n",
       "      <td>Don’t even think about going anywhere else in ...</td>\n",
       "    </tr>\n",
       "  </tbody>\n",
       "</table>\n",
       "</div>"
      ],
      "text/plain": [
       "                DATE  RATINGS                                       TITLE  \\\n",
       "0  November 11, 2019       30                             Average at best   \n",
       "1    August 17, 2019       30                Rushed out. Food good though   \n",
       "2     April 12, 2019       50  My favorite japanese restaurant in Toronto   \n",
       "3   December 4, 2018       10              Good Food but Horrible Service   \n",
       "4    August 27, 2018       50                              Saturday Lunch   \n",
       "\n",
       "                                             REVIEWS  \n",
       "0  Group of 5 went here for dinner. This place ha...  \n",
       "1  Ordered chicken don. They looked super stresse...  \n",
       "2  This is my favourite restaurant Japanese in To...  \n",
       "3  Not from Toronto, found this place while adven...  \n",
       "4  Don’t even think about going anywhere else in ...  "
      ]
     },
     "execution_count": 5,
     "metadata": {},
     "output_type": "execute_result"
    }
   ],
   "source": [
    "df.head()"
   ]
  },
  {
   "cell_type": "code",
   "execution_count": null,
   "id": "882c3406",
   "metadata": {},
   "outputs": [],
   "source": []
  }
 ],
 "metadata": {
  "kernelspec": {
   "display_name": "Python 3 (ipykernel)",
   "language": "python",
   "name": "python3"
  },
  "language_info": {
   "codemirror_mode": {
    "name": "ipython",
    "version": 3
   },
   "file_extension": ".py",
   "mimetype": "text/x-python",
   "name": "python",
   "nbconvert_exporter": "python",
   "pygments_lexer": "ipython3",
   "version": "3.11.5"
  }
 },
 "nbformat": 4,
 "nbformat_minor": 5
}
